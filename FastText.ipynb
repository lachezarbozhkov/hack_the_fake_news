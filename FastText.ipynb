{
 "cells": [
  {
   "cell_type": "code",
   "execution_count": 109,
   "metadata": {
    "collapsed": false,
    "deletable": true,
    "editable": true
   },
   "outputs": [],
   "source": [
    "import fasttext\n",
    "import pandas as pd\n",
    "from sklearn.model_selection import train_test_split\n",
    "\n",
    "data = pd.read_excel(\"data/FN_Training_Set.xlsx\")\n",
    "train, test = train_test_split(data, test_size=0.2, random_state=999)\n",
    "train = train.dropna(subset=['Content', 'Content Title'])\n",
    "with open('data.txt', \"w\") as out:\n",
    "    for i, row in train.iterrows():\n",
    "        out.write(\"{}\\t__label__{}\\n\".format(row['Content'], row['fake_news_score']))\n"
   ]
  },
  {
   "cell_type": "code",
   "execution_count": 119,
   "metadata": {
    "collapsed": false,
    "deletable": true,
    "editable": true
   },
   "outputs": [],
   "source": [
    "classifier = fasttext.supervised(\"data.txt\", 'data/fasttext/supervised_model', dim=50, ws=4, loss='hs', epoch=100)"
   ]
  },
  {
   "cell_type": "code",
   "execution_count": 120,
   "metadata": {
    "collapsed": false,
    "deletable": true,
    "editable": true
   },
   "outputs": [],
   "source": [
    "testdata = pd.read_excel(\"/home/pepa/git/case_fake_news/data/FN_Validation_Set.xlsx\")\n",
    "\n",
    "\n",
    "# classifier.predict_proba()\n",
    "\n",
    "with open('data_test.txt', \"w\") as out:\n",
    "    for i, row in test.iterrows():\n",
    "        out.write(\"{}\\t__label__{}\\n\".format(row['Content'], row['fake_news_score']))\n",
    "\n",
    "result = classifier.test('data_test.txt')"
   ]
  },
  {
   "cell_type": "code",
   "execution_count": 121,
   "metadata": {
    "collapsed": false,
    "deletable": true,
    "editable": true
   },
   "outputs": [
    {
     "data": {
      "text/plain": [
       "0.7584369449378331"
      ]
     },
     "execution_count": 121,
     "metadata": {},
     "output_type": "execute_result"
    }
   ],
   "source": [
    "result.recall"
   ]
  },
  {
   "cell_type": "code",
   "execution_count": 104,
   "metadata": {
    "collapsed": false,
    "deletable": true,
    "editable": true
   },
   "outputs": [
    {
     "ename": "KeyboardInterrupt",
     "evalue": "",
     "output_type": "error",
     "traceback": [
      "\u001b[0;31m---------------------------------------------------------------------------\u001b[0m",
      "\u001b[0;31mKeyboardInterrupt\u001b[0m                         Traceback (most recent call last)",
      "\u001b[0;32m<ipython-input-104-0a51dba1da81>\u001b[0m in \u001b[0;36m<module>\u001b[0;34m()\u001b[0m\n\u001b[0;32m----> 1\u001b[0;31m \u001b[0mmodel\u001b[0m \u001b[0;34m=\u001b[0m \u001b[0mfasttext\u001b[0m\u001b[0;34m.\u001b[0m\u001b[0mcbow\u001b[0m\u001b[0;34m(\u001b[0m\u001b[0;34m'data.txt'\u001b[0m\u001b[0;34m,\u001b[0m \u001b[0;34m'data/fasttext/modelfst'\u001b[0m\u001b[0;34m,\u001b[0m \u001b[0mlr\u001b[0m\u001b[0;34m=\u001b[0m\u001b[0;36m0.1\u001b[0m\u001b[0;34m,\u001b[0m \u001b[0mdim\u001b[0m\u001b[0;34m=\u001b[0m\u001b[0;36m200\u001b[0m\u001b[0;34m,\u001b[0m \u001b[0mws\u001b[0m\u001b[0;34m=\u001b[0m\u001b[0;36m4\u001b[0m\u001b[0;34m,\u001b[0m \u001b[0mepoch\u001b[0m\u001b[0;34m=\u001b[0m\u001b[0;36m50\u001b[0m\u001b[0;34m)\u001b[0m\u001b[0;34m\u001b[0m\u001b[0m\n\u001b[0m",
      "\u001b[0;32mfasttext/fasttext.pyx\u001b[0m in \u001b[0;36mfasttext.fasttext.cbow (fasttext/fasttext.cpp:6860)\u001b[0;34m()\u001b[0m\n",
      "\u001b[0;32mfasttext/fasttext.pyx\u001b[0m in \u001b[0;36mfasttext.fasttext.train_wrapper (fasttext/fasttext.cpp:6038)\u001b[0;34m()\u001b[0m\n",
      "\u001b[0;32mfasttext/fasttext.pyx\u001b[0m in \u001b[0;36mfasttext.fasttext.load_model (fasttext/fasttext.cpp:4078)\u001b[0;34m()\u001b[0m\n",
      "\u001b[0;32m/usr/lib/python3.5/genericpath.py\u001b[0m in \u001b[0;36misfile\u001b[0;34m(path)\u001b[0m\n\u001b[1;32m     25\u001b[0m \u001b[0;31m# This follows symbolic links, so both islink() and isdir() can be true\u001b[0m\u001b[0;34m\u001b[0m\u001b[0;34m\u001b[0m\u001b[0m\n\u001b[1;32m     26\u001b[0m \u001b[0;31m# for the same path on systems that support symlinks\u001b[0m\u001b[0;34m\u001b[0m\u001b[0;34m\u001b[0m\u001b[0m\n\u001b[0;32m---> 27\u001b[0;31m \u001b[0;32mdef\u001b[0m \u001b[0misfile\u001b[0m\u001b[0;34m(\u001b[0m\u001b[0mpath\u001b[0m\u001b[0;34m)\u001b[0m\u001b[0;34m:\u001b[0m\u001b[0;34m\u001b[0m\u001b[0m\n\u001b[0m\u001b[1;32m     28\u001b[0m     \u001b[0;34m\"\"\"Test whether a path is a regular file\"\"\"\u001b[0m\u001b[0;34m\u001b[0m\u001b[0m\n\u001b[1;32m     29\u001b[0m     \u001b[0;32mtry\u001b[0m\u001b[0;34m:\u001b[0m\u001b[0;34m\u001b[0m\u001b[0m\n",
      "\u001b[0;31mKeyboardInterrupt\u001b[0m: "
     ]
    }
   ],
   "source": [
    "model = fasttext.cbow('data.txt', 'data/fasttext/modelfst', lr=0.1, dim=200, ws=4, epoch=50)"
   ]
  },
  {
   "cell_type": "code",
   "execution_count": 54,
   "metadata": {
    "collapsed": false,
    "deletable": true,
    "editable": true
   },
   "outputs": [
    {
     "data": {
      "text/plain": [
       "[-1.438392996788025,\n",
       " -1.2795419692993164,\n",
       " 1.953158974647522,\n",
       " 0.15992681682109833,\n",
       " 1.809572458267212,\n",
       " 0.9264095425605774,\n",
       " -0.20196650922298431,\n",
       " 1.90230393409729,\n",
       " -0.03926524892449379,\n",
       " 0.06797121465206146,\n",
       " -0.6534048318862915,\n",
       " -1.1633024215698242,\n",
       " 0.4546440839767456,\n",
       " 0.4086925983428955,\n",
       " 2.2007126808166504,\n",
       " -0.31277355551719666,\n",
       " -0.11205989122390747,\n",
       " 1.462859034538269,\n",
       " 0.5263266563415527,\n",
       " 0.3797036111354828,\n",
       " 0.21369978785514832,\n",
       " -0.4415397346019745,\n",
       " -1.2493635416030884,\n",
       " 0.49010008573532104,\n",
       " 1.4557923078536987,\n",
       " -1.4608546495437622,\n",
       " 1.4469441175460815,\n",
       " 0.13954885303974152,\n",
       " -0.3526095449924469,\n",
       " -0.4115528166294098,\n",
       " -0.9592007398605347,\n",
       " 0.8145571947097778,\n",
       " -1.2104063034057617,\n",
       " 0.6493549346923828,\n",
       " 0.3161872327327728,\n",
       " -0.7250616550445557,\n",
       " 2.7635297775268555,\n",
       " -1.3896794319152832,\n",
       " -2.074305534362793,\n",
       " -0.567487895488739,\n",
       " -2.6456756591796875,\n",
       " 1.683850884437561,\n",
       " -0.569490373134613,\n",
       " -1.4300514459609985,\n",
       " 1.1478638648986816,\n",
       " -1.9591609239578247,\n",
       " 1.4958302974700928,\n",
       " -1.5177805423736572,\n",
       " -1.1661735773086548,\n",
       " 2.0241541862487793,\n",
       " 1.3692251443862915,\n",
       " -0.2737160623073578,\n",
       " 1.9011166095733643,\n",
       " 0.37764909863471985,\n",
       " -0.11975875496864319,\n",
       " -0.3014630377292633,\n",
       " -0.002300418447703123,\n",
       " -0.5550625324249268,\n",
       " 3.4676003456115723,\n",
       " -0.8897600769996643,\n",
       " -0.48253414034843445,\n",
       " -0.7649093866348267,\n",
       " -1.0537678003311157,\n",
       " -1.5031256675720215,\n",
       " 1.483306884765625,\n",
       " 0.47985559701919556,\n",
       " -2.1259114742279053,\n",
       " -0.6494013667106628,\n",
       " -0.31428205966949463,\n",
       " 1.097366452217102,\n",
       " 0.8834601640701294,\n",
       " 1.950596809387207,\n",
       " -0.35921692848205566,\n",
       " 0.9987059831619263,\n",
       " 1.2496448755264282,\n",
       " -2.1209652423858643,\n",
       " -1.5460636615753174,\n",
       " -0.19237995147705078,\n",
       " 1.1091872453689575,\n",
       " 0.15175262093544006,\n",
       " -1.553060531616211,\n",
       " 1.3539819717407227,\n",
       " -0.14308728277683258,\n",
       " -0.39202362298965454,\n",
       " -0.9126695990562439,\n",
       " -2.1783201694488525,\n",
       " 2.2606637477874756,\n",
       " -1.0683692693710327,\n",
       " 0.8108100295066833,\n",
       " 0.3106849789619446,\n",
       " 0.06869303435087204,\n",
       " -1.5802955627441406,\n",
       " -2.1194305419921875,\n",
       " 1.1754578351974487,\n",
       " 0.32292062044143677,\n",
       " -0.9725204110145569,\n",
       " 1.3925939798355103,\n",
       " -1.5947418212890625,\n",
       " -1.5531811714172363,\n",
       " 0.20925894379615784]"
      ]
     },
     "execution_count": 54,
     "metadata": {},
     "output_type": "execute_result"
    }
   ],
   "source": [
    "model['сензация']"
   ]
  },
  {
   "cell_type": "code",
   "execution_count": 60,
   "metadata": {
    "collapsed": false,
    "deletable": true,
    "editable": true
   },
   "outputs": [
    {
     "data": {
      "text/plain": [
       "<fasttext.model.WordVectorModel at 0x7fe3b3578d68>"
      ]
     },
     "execution_count": 60,
     "metadata": {},
     "output_type": "execute_result"
    }
   ],
   "source": [
    "fasttext.load_model('data/fasttext/modelfst.bin')"
   ]
  },
  {
   "cell_type": "code",
   "execution_count": 8,
   "metadata": {
    "collapsed": false,
    "deletable": true,
    "editable": true
   },
   "outputs": [
    {
     "name": "stdout",
     "output_type": "stream",
     "text": [
      "Index(['host', 'url', 'title', 'content', 'rank_sensika', 'rank_alexa',\n",
      "       'date_published'],\n",
      "      dtype='object')\n"
     ]
    }
   ],
   "source": [
    "import pandas as pd\n",
    "data = pd.read_csv(\"/home/pepa/git/case_fake_news/data/main_data_fake_news.csv\")\n",
    "# data = data.dropna(subset=['Content', 'Content Title'])\n",
    "print(data.columns)\n",
    "with open('data.txt', \"w\") as out:\n",
    "    for i, row in data.iterrows():\n",
    "        out.write(\"{}\\n\".format(row['content']))"
   ]
  },
  {
   "cell_type": "code",
   "execution_count": 12,
   "metadata": {
    "collapsed": false
   },
   "outputs": [],
   "source": [
    "import fasttext\n",
    "model = fasttext.cbow('data.txt', 'data/fasttext/modelfst', lr=0.1, dim=200, ws=4, epoch=100)"
   ]
  }
 ],
 "metadata": {
  "kernelspec": {
   "display_name": "Python 3",
   "language": "python",
   "name": "python3"
  },
  "language_info": {
   "codemirror_mode": {
    "name": "ipython",
    "version": 3
   },
   "file_extension": ".py",
   "mimetype": "text/x-python",
   "name": "python",
   "nbconvert_exporter": "python",
   "pygments_lexer": "ipython3",
   "version": "3.5.2"
  }
 },
 "nbformat": 4,
 "nbformat_minor": 2
}
