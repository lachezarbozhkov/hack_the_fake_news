{
 "cells": [
  {
   "cell_type": "code",
   "execution_count": 136,
   "metadata": {
    "collapsed": true,
    "deletable": true,
    "editable": true
   },
   "outputs": [],
   "source": [
    "import polyglot\n",
    "import numpy as np\n",
    "import pandas as pd\n",
    "from sklearn.svm import LinearSVC\n",
    "from sklearn.pipeline import Pipeline\n",
    "from sklearn.preprocessing import LabelBinarizer\n",
    "from sklearn.model_selection import train_test_split\n",
    "import math\n",
    "import re\n",
    "from operator import itemgetter"
   ]
  },
  {
   "cell_type": "code",
   "execution_count": 137,
   "metadata": {
    "collapsed": true,
    "deletable": true,
    "editable": true
   },
   "outputs": [],
   "source": [
    "df = pd.read_excel(\"data/FN_Training_Set.xlsx\")"
   ]
  },
  {
   "cell_type": "code",
   "execution_count": 138,
   "metadata": {
    "collapsed": false,
    "deletable": true,
    "editable": true
   },
   "outputs": [
    {
     "data": {
      "text/plain": [
       "Index(['fake_news_score', 'click_bait_score', 'Content Title', 'Content Url',\n",
       "       'Content Published Time', 'Content'],\n",
       "      dtype='object')"
      ]
     },
     "execution_count": 138,
     "metadata": {},
     "output_type": "execute_result"
    }
   ],
   "source": [
    "df.columns\n"
   ]
  },
  {
   "cell_type": "code",
   "execution_count": 139,
   "metadata": {
    "collapsed": false,
    "deletable": true,
    "editable": true
   },
   "outputs": [],
   "source": [
    "click_bait_content = df[df['click_bait_score']==3]['Content'].tolist()\n",
    "non_click_bait_content = df[df['click_bait_score']==1]['Content'].tolist()\n",
    "fake_content = df[df['fake_news_score']==3]['Content'].tolist()\n",
    "non_fake_content = df[df['fake_news_score']==1]['Content'].tolist()\n",
    "\n",
    "click_bait_header = df[df['click_bait_score']==3]['Content Title'].tolist()\n",
    "non_click_bait_header = df[df['click_bait_score']==1]['Content Title'].tolist()\n",
    "fake_header = df[df['fake_news_score']==3]['Content Title'].tolist()\n",
    "non_fake_header = df[df['fake_news_score']==1]['Content Title'].tolist()\n",
    "regex_clean = '[\\n„\\\".,!?“:\\-\\/_\\xa0\\(\\)…]'\n"
   ]
  },
  {
   "cell_type": "code",
   "execution_count": 140,
   "metadata": {
    "collapsed": false,
    "deletable": true,
    "editable": true
   },
   "outputs": [],
   "source": [
    "def calculate_pmi(word, all_positive, all_negative): \n",
    "    word = re.sub(regex_clean, '', word).lower()\n",
    "    all_positive = [re.sub(regex_clean, '', str(p)).lower() for p in all_positive]\n",
    "    all_negative = [re.sub(regex_clean, '', str(p)).lower() for p in all_negative]\n",
    "    positive = [d for d in all_positive if word in d]\n",
    "    negative = [d for d in all_negative if word in d]\n",
    "    #pmi = (len(positive)*len(all_negative)+0.00001)/(len(negative)*len(all_positive)+0.00001)\n",
    "    pmi_pos = len(positive)*1.0/(len(positive) + len(negative))\n",
    "    pmi_neg = len(negative)*1.0/(len(positive) + len(negative))\n",
    "    #pmi_norm = math.log2(pmi_pos)\n",
    "    return [word, pmi_pos, pmi_neg]\n",
    "    "
   ]
  },
  {
   "cell_type": "code",
   "execution_count": 141,
   "metadata": {
    "collapsed": false,
    "deletable": true,
    "editable": true
   },
   "outputs": [
    {
     "name": "stdout",
     "output_type": "stream",
     "text": [
      "['борисов', 0.7407407407407407, 0.25925925925925924]\n"
     ]
    }
   ],
   "source": [
    "p = calculate_pmi('борисов', click_bait, non_click_bait)\n",
    "print(p)"
   ]
  },
  {
   "cell_type": "code",
   "execution_count": 142,
   "metadata": {
    "collapsed": true
   },
   "outputs": [],
   "source": [
    "all_headers = df['Content Title'].tolist()\n",
    "all_conents = df['Content'].tolist()"
   ]
  },
  {
   "cell_type": "code",
   "execution_count": 143,
   "metadata": {
    "collapsed": false,
    "deletable": true,
    "editable": true
   },
   "outputs": [],
   "source": [
    "def build_vocabulary(input_text):\n",
    "    from collections import Counter\n",
    "    c = Counter()\n",
    "    for line in input_text:\n",
    "        words = re.sub(regex_clean, '', str(line)).lower().split(' ')\n",
    "        c.update(words)\n",
    "    for k in list(c):\n",
    "        if c[k] < 20:\n",
    "            del c[k]\n",
    "    return c\n",
    "    "
   ]
  },
  {
   "cell_type": "code",
   "execution_count": 146,
   "metadata": {
    "collapsed": false,
    "deletable": true,
    "editable": true
   },
   "outputs": [],
   "source": [
    "header_vocab = build_vocabulary(all_headers)\n",
    "content_vocab = build_vocabulary(all_conents)"
   ]
  },
  {
   "cell_type": "code",
   "execution_count": 147,
   "metadata": {
    "collapsed": false
   },
   "outputs": [],
   "source": [
    "pmi_headers_clickbait = [calculate_pmi(h, click_bait_header, non_click_bait_header) for h in header_vocab]\n",
    "pmi_headers_fact = [calculate_pmi(h, fake_header, non_fake_header) for h in header_vocab]\n",
    "pmi_content_clickbait = [calculate_pmi(h, click_bait_content, non_click_bait_content) for h in content_vocab]\n",
    "pmi_content_fact = [calculate_pmi(h, fake_content, non_fake_content) for h in content_vocab]\n"
   ]
  },
  {
   "cell_type": "code",
   "execution_count": 161,
   "metadata": {
    "collapsed": false
   },
   "outputs": [],
   "source": [
    "with open('pmi_content_fact', 'w', encoding='utf8') as w:\n",
    "    for p in pmi_content_fact:\n",
    "        norm = [str(i) for i in p]\n",
    "        w.write('\\t'.join(norm) + '\\n')"
   ]
  },
  {
   "cell_type": "code",
   "execution_count": null,
   "metadata": {
    "collapsed": true
   },
   "outputs": [],
   "source": []
  }
 ],
 "metadata": {
  "kernelspec": {
   "display_name": "Python 3",
   "language": "python",
   "name": "python3"
  },
  "language_info": {
   "codemirror_mode": {
    "name": "ipython",
    "version": 3
   },
   "file_extension": ".py",
   "mimetype": "text/x-python",
   "name": "python",
   "nbconvert_exporter": "python",
   "pygments_lexer": "ipython3",
   "version": "3.6.1"
  }
 },
 "nbformat": 4,
 "nbformat_minor": 2
}
